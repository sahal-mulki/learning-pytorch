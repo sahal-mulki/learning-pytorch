{
  "nbformat": 4,
  "nbformat_minor": 0,
  "metadata": {
    "colab": {
      "provenance": [],
      "authorship_tag": "ABX9TyMIt7Vq2Bx3IT/H4bpZm71S",
      "include_colab_link": true
    },
    "kernelspec": {
      "name": "python3",
      "display_name": "Python 3"
    },
    "language_info": {
      "name": "python"
    }
  },
  "cells": [
    {
      "cell_type": "markdown",
      "metadata": {
        "id": "view-in-github",
        "colab_type": "text"
      },
      "source": [
        "<a href=\"https://colab.research.google.com/github/sahal-mulki/learning-pytorch/blob/main/Part%202%20-%20Tensors.ipynb\" target=\"_parent\"><img src=\"https://colab.research.google.com/assets/colab-badge.svg\" alt=\"Open In Colab\"/></a>"
      ]
    },
    {
      "cell_type": "markdown",
      "source": [
        "# Part 2 - Tensors"
      ],
      "metadata": {
        "id": "qE4x4ceLtSg8"
      }
    },
    {
      "cell_type": "code",
      "execution_count": 1,
      "metadata": {
        "id": "vSaFmEkYrKJn"
      },
      "outputs": [],
      "source": [
        "import torch, math"
      ]
    },
    {
      "cell_type": "code",
      "source": [
        "empty_tensor = torch.empty(3, 4)\n",
        "\n",
        "print(empty_tensor)\n",
        "print(type(empty_tensor))"
      ],
      "metadata": {
        "colab": {
          "base_uri": "https://localhost:8080/"
        },
        "id": "Q8xNNixqsQ5_",
        "outputId": "358f6ad8-b182-4306-85dc-3bc6a32b8128"
      },
      "execution_count": 2,
      "outputs": [
        {
          "output_type": "stream",
          "name": "stdout",
          "text": [
            "tensor([[-1.6220e+37,  4.4631e-41,  1.3549e-09,  3.0766e-41],\n",
            "        [-9.9587e+36,  4.4631e-41,  4.1759e-30,  4.4631e-41],\n",
            "        [-5.0181e+36,  4.4631e-41, -9.4396e+36,  4.4631e-41]])\n",
            "<class 'torch.Tensor'>\n"
          ]
        }
      ]
    },
    {
      "cell_type": "code",
      "source": [
        "zeroes = torch.zeros((3,4), dtype=torch.float64)\n",
        "\n",
        "ones = torch.ones(3, 4)"
      ],
      "metadata": {
        "id": "GYMjyxRwsahd"
      },
      "execution_count": 11,
      "outputs": []
    },
    {
      "cell_type": "code",
      "source": [
        "zeroes"
      ],
      "metadata": {
        "colab": {
          "base_uri": "https://localhost:8080/"
        },
        "id": "OJWntW6QsmkU",
        "outputId": "2123e645-1cfc-48ba-86a3-bc3c04e82a6e"
      },
      "execution_count": 12,
      "outputs": [
        {
          "output_type": "execute_result",
          "data": {
            "text/plain": [
              "tensor([[0., 0., 0., 0.],\n",
              "        [0., 0., 0., 0.],\n",
              "        [0., 0., 0., 0.]], dtype=torch.float64)"
            ]
          },
          "metadata": {},
          "execution_count": 12
        }
      ]
    },
    {
      "cell_type": "code",
      "source": [
        "ones"
      ],
      "metadata": {
        "colab": {
          "base_uri": "https://localhost:8080/"
        },
        "id": "XaoB-zPpsogV",
        "outputId": "04e14643-7f98-499b-f7bd-096db1197dd4"
      },
      "execution_count": 13,
      "outputs": [
        {
          "output_type": "execute_result",
          "data": {
            "text/plain": [
              "tensor([[1., 1., 1., 1.],\n",
              "        [1., 1., 1., 1.],\n",
              "        [1., 1., 1., 1.]])"
            ]
          },
          "metadata": {},
          "execution_count": 13
        }
      ]
    },
    {
      "cell_type": "code",
      "source": [
        "torch.manual_seed(1729)\n",
        "\n",
        "rando = torch.rand(2,3)"
      ],
      "metadata": {
        "id": "xbyMbWFls0PC"
      },
      "execution_count": 29,
      "outputs": []
    },
    {
      "cell_type": "code",
      "source": [
        "print(rando)"
      ],
      "metadata": {
        "colab": {
          "base_uri": "https://localhost:8080/"
        },
        "id": "zWsZiEM3s6dj",
        "outputId": "24317aee-91c0-4582-e464-27b06cf12b3a"
      },
      "execution_count": 27,
      "outputs": [
        {
          "output_type": "stream",
          "name": "stdout",
          "text": [
            "tensor([[0.3126, 0.3791, 0.3087],\n",
            "        [0.0736, 0.4216, 0.0691]])\n"
          ]
        }
      ]
    },
    {
      "cell_type": "code",
      "source": [
        "rando = torch.rand(2,3)"
      ],
      "metadata": {
        "id": "xBgqOoZgs74V"
      },
      "execution_count": 22,
      "outputs": []
    },
    {
      "cell_type": "code",
      "source": [
        "torch.manual_seed(1729)"
      ],
      "metadata": {
        "colab": {
          "base_uri": "https://localhost:8080/"
        },
        "id": "GGMQM9j_tfRz",
        "outputId": "70a1fc2a-81cb-47b8-ed30-47dc105ada4d"
      },
      "execution_count": 35,
      "outputs": [
        {
          "output_type": "execute_result",
          "data": {
            "text/plain": [
              "<torch._C.Generator at 0x7c6abff4c530>"
            ]
          },
          "metadata": {},
          "execution_count": 35
        }
      ]
    },
    {
      "cell_type": "code",
      "source": [
        "torch.seed()"
      ],
      "metadata": {
        "colab": {
          "base_uri": "https://localhost:8080/"
        },
        "id": "luH05uf9s-Tn",
        "outputId": "2c547759-0cdf-4353-a000-0d4c8c82650b"
      },
      "execution_count": 36,
      "outputs": [
        {
          "output_type": "execute_result",
          "data": {
            "text/plain": [
              "16445031461178843550"
            ]
          },
          "metadata": {},
          "execution_count": 36
        }
      ]
    },
    {
      "cell_type": "code",
      "source": [
        "x = torch.empty(2, 2, 3)"
      ],
      "metadata": {
        "id": "Uxmircajtczq"
      },
      "execution_count": 37,
      "outputs": []
    },
    {
      "cell_type": "code",
      "source": [
        "x"
      ],
      "metadata": {
        "colab": {
          "base_uri": "https://localhost:8080/"
        },
        "id": "ORElaShHuWmV",
        "outputId": "51b8dd5e-18cf-4d2d-a065-763143f00c1c"
      },
      "execution_count": 38,
      "outputs": [
        {
          "output_type": "execute_result",
          "data": {
            "text/plain": [
              "tensor([[[1.5766e-19, 1.0256e-08, 4.2004e-05],\n",
              "         [3.1644e+12, 1.7341e-07, 1.7283e-04]],\n",
              "\n",
              "        [[2.5643e-09, 1.2892e+16, 2.1707e-18],\n",
              "         [7.0952e+22, 1.7748e+28, 1.8176e+31]]])"
            ]
          },
          "metadata": {},
          "execution_count": 38
        }
      ]
    },
    {
      "cell_type": "code",
      "source": [
        "x.shape"
      ],
      "metadata": {
        "colab": {
          "base_uri": "https://localhost:8080/"
        },
        "id": "cl-Fm-09uW50",
        "outputId": "10ff0c08-c9ce-4d30-baf5-5b24d5f0216b"
      },
      "execution_count": 39,
      "outputs": [
        {
          "output_type": "execute_result",
          "data": {
            "text/plain": [
              "torch.Size([2, 2, 3])"
            ]
          },
          "metadata": {},
          "execution_count": 39
        }
      ]
    },
    {
      "cell_type": "code",
      "source": [
        "x[0][0][0]"
      ],
      "metadata": {
        "colab": {
          "base_uri": "https://localhost:8080/"
        },
        "id": "n0o2yltOuZ7i",
        "outputId": "b789c968-c1d9-4e67-eef5-49b1de4e9592"
      },
      "execution_count": 42,
      "outputs": [
        {
          "output_type": "execute_result",
          "data": {
            "text/plain": [
              "tensor(1.5766e-19)"
            ]
          },
          "metadata": {},
          "execution_count": 42
        }
      ]
    },
    {
      "cell_type": "code",
      "source": [
        "empty_like_x = torch.empty_like(x)\n",
        "print(empty_like_x.shape)\n",
        "print(empty_like_x)\n",
        "\n",
        "zeros_like_x = torch.zeros_like(x)\n",
        "print(zeros_like_x.shape)\n",
        "print(zeros_like_x)\n",
        "\n",
        "ones_like_x = torch.ones_like(x)\n",
        "print(ones_like_x.shape)\n",
        "print(ones_like_x)\n",
        "\n",
        "rand_like_x = torch.rand_like(x)\n",
        "print(rand_like_x.shape)\n",
        "print(rand_like_x)"
      ],
      "metadata": {
        "colab": {
          "base_uri": "https://localhost:8080/"
        },
        "id": "KsK0MVnMufKy",
        "outputId": "82c65359-afe3-4d08-ca11-a124d00e820d"
      },
      "execution_count": 43,
      "outputs": [
        {
          "output_type": "stream",
          "name": "stdout",
          "text": [
            "torch.Size([2, 2, 3])\n",
            "tensor([[[6.4290e-09, 3.0766e-41, 6.0573e-09],\n",
            "         [3.0766e-41, 1.1210e-43, 0.0000e+00]],\n",
            "\n",
            "        [[8.9683e-44, 0.0000e+00, 9.6818e+27],\n",
            "         [3.0770e-41, 1.0842e-19, 6.5099e-01]]])\n",
            "torch.Size([2, 2, 3])\n",
            "tensor([[[0., 0., 0.],\n",
            "         [0., 0., 0.]],\n",
            "\n",
            "        [[0., 0., 0.],\n",
            "         [0., 0., 0.]]])\n",
            "torch.Size([2, 2, 3])\n",
            "tensor([[[1., 1., 1.],\n",
            "         [1., 1., 1.]],\n",
            "\n",
            "        [[1., 1., 1.],\n",
            "         [1., 1., 1.]]])\n",
            "torch.Size([2, 2, 3])\n",
            "tensor([[[0.8559, 0.0156, 0.7691],\n",
            "         [0.3985, 0.4853, 0.9381]],\n",
            "\n",
            "        [[0.3754, 0.7733, 0.4887],\n",
            "         [0.8013, 0.9687, 0.5173]]])\n"
          ]
        }
      ]
    },
    {
      "cell_type": "code",
      "source": [
        "constants = torch.tensor([[3.1415926, 2.71828], [1.61803, 0]])\n",
        "print(constants)\n",
        "\n",
        "some_integers = torch.tensor((2, 3, 5, 7, 11, 13, 17, 19))\n",
        "print(some_integers)\n",
        "\n",
        "more_integers = torch.tensor(([2, 4, 6], [3, 6, 9]))\n",
        "print(more_integers)"
      ],
      "metadata": {
        "colab": {
          "base_uri": "https://localhost:8080/"
        },
        "id": "eU1UTISNuq3W",
        "outputId": "c374769f-2cad-499c-f6a9-17a92f47cf79"
      },
      "execution_count": 45,
      "outputs": [
        {
          "output_type": "stream",
          "name": "stdout",
          "text": [
            "tensor([[3.1416, 2.7183],\n",
            "        [1.6180, 0.0000]])\n",
            "tensor([ 2,  3,  5,  7, 11, 13, 17, 19])\n",
            "tensor([[2, 4, 6],\n",
            "        [3, 6, 9]])\n"
          ]
        }
      ]
    },
    {
      "cell_type": "code",
      "source": [
        "torch.tensor(more_integers)"
      ],
      "metadata": {
        "colab": {
          "base_uri": "https://localhost:8080/"
        },
        "id": "PGaxL2o_u-W0",
        "outputId": "865a87de-55b3-4870-baea-5da19c7441db"
      },
      "execution_count": 46,
      "outputs": [
        {
          "output_type": "stream",
          "name": "stderr",
          "text": [
            "<ipython-input-46-be8e34700a98>:1: UserWarning: To copy construct from a tensor, it is recommended to use sourceTensor.clone().detach() or sourceTensor.clone().detach().requires_grad_(True), rather than torch.tensor(sourceTensor).\n",
            "  torch.tensor(more_integers)\n"
          ]
        },
        {
          "output_type": "execute_result",
          "data": {
            "text/plain": [
              "tensor([[2, 4, 6],\n",
              "        [3, 6, 9]])"
            ]
          },
          "metadata": {},
          "execution_count": 46
        }
      ]
    },
    {
      "cell_type": "code",
      "source": [
        "a = torch.rand((2, 3), dtype=torch.float16) * 20\n",
        "print(a)\n",
        "\n",
        "c = a.to(torch.int32)\n",
        "print(c)"
      ],
      "metadata": {
        "colab": {
          "base_uri": "https://localhost:8080/"
        },
        "id": "ilyZsbP_vG4X",
        "outputId": "72f45da9-7a90-4919-af45-b43792efb895"
      },
      "execution_count": 51,
      "outputs": [
        {
          "output_type": "stream",
          "name": "stdout",
          "text": [
            "tensor([[ 9.8750,  5.6172,  2.3926],\n",
            "        [ 2.8711, 16.5000, 18.9688]], dtype=torch.float16)\n",
            "tensor([[ 9,  5,  2],\n",
            "        [ 2, 16, 18]], dtype=torch.int32)\n"
          ]
        }
      ]
    },
    {
      "cell_type": "code",
      "source": [],
      "metadata": {
        "id": "NQyw2lD9vQih"
      },
      "execution_count": null,
      "outputs": []
    }
  ]
}