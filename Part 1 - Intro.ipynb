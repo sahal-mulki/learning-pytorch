{
  "nbformat": 4,
  "nbformat_minor": 0,
  "metadata": {
    "colab": {
      "provenance": [],
      "authorship_tag": "ABX9TyOitOrIVPRy1aHW8FQ6linI",
      "include_colab_link": true
    },
    "kernelspec": {
      "name": "python3",
      "display_name": "Python 3"
    },
    "language_info": {
      "name": "python"
    }
  },
  "cells": [
    {
      "cell_type": "markdown",
      "metadata": {
        "id": "view-in-github",
        "colab_type": "text"
      },
      "source": [
        "<a href=\"https://colab.research.google.com/github/sahal-mulki/learning-pytorch/blob/main/Part%201%20-%20Intro.ipynb\" target=\"_parent\"><img src=\"https://colab.research.google.com/assets/colab-badge.svg\" alt=\"Open In Colab\"/></a>"
      ]
    },
    {
      "cell_type": "markdown",
      "source": [
        "# My first notebook made while trying to learn PyTorch!"
      ],
      "metadata": {
        "id": "dHpL_oKukEVt"
      }
    },
    {
      "cell_type": "code",
      "execution_count": 18,
      "metadata": {
        "colab": {
          "base_uri": "https://localhost:8080/"
        },
        "id": "MO_steARjTVR",
        "outputId": "8a953bdf-589e-4427-aee7-26d702570b98"
      },
      "outputs": [
        {
          "output_type": "stream",
          "name": "stdout",
          "text": [
            "\u001b[31mERROR: Operation cancelled by user\u001b[0m\u001b[31m\n",
            "\u001b[0m"
          ]
        }
      ],
      "source": [
        "# CREATED IN PART USING THE GEMINI AI FUNCTION IN COLAB\n",
        "\n",
        "!pip install --upgrade torch torchvision"
      ]
    },
    {
      "cell_type": "code",
      "source": [
        "import torch\n",
        "\n",
        "z = torch.zeros(2, 3)\n",
        "print(z)\n",
        "print(\"Z has the type:\")\n",
        "print(z.dtype)\n",
        "\n",
        "ones = torch.ones((2, 3), dtype=torch.int16)\n",
        "\n",
        "print(\"Ones has the type:\")\n",
        "print(ones.type)\n",
        "print(ones)\n",
        "\n",
        "torch.manual_seed(1234)\n",
        "r1 = torch.rand((2, 2), dtype=torch.float16)\n",
        "print('A random tensor:')\n",
        "print(r1)\n",
        "\n",
        "r2 = torch.rand((2, 2), dtype=torch.float16)\n",
        "print('A different random tensor:')\n",
        "print(r2)\n",
        "\n",
        "torch.manual_seed(1234)\n",
        "r3 = torch.rand((2, 2), dtype=torch.float16)\n",
        "print('Should match r1:')\n",
        "print(r3)"
      ],
      "metadata": {
        "colab": {
          "base_uri": "https://localhost:8080/"
        },
        "id": "oLjoSmk2j9Ka",
        "outputId": "c889680d-92e7-4ba1-ec95-b05e631b40da"
      },
      "execution_count": 19,
      "outputs": [
        {
          "output_type": "stream",
          "name": "stdout",
          "text": [
            "tensor([[0., 0., 0.],\n",
            "        [0., 0., 0.]])\n",
            "Z has the type:\n",
            "torch.float32\n",
            "Ones has the type:\n",
            "<built-in method type of Tensor object at 0x791f9482d800>\n",
            "tensor([[1, 1, 1],\n",
            "        [1, 1, 1]], dtype=torch.int16)\n",
            "A random tensor:\n",
            "tensor([[0.3979, 0.3530],\n",
            "        [0.6436, 0.5259]], dtype=torch.float16)\n",
            "A different random tensor:\n",
            "tensor([[0.5996, 0.6816],\n",
            "        [0.3242, 0.9966]], dtype=torch.float16)\n",
            "Should match r1:\n",
            "tensor([[0.3979, 0.3530],\n",
            "        [0.6436, 0.5259]], dtype=torch.float16)\n"
          ]
        }
      ]
    },
    {
      "cell_type": "code",
      "source": [
        "ones = torch.ones((2, 3), dtype=torch.int16)\n",
        "print(ones)\n",
        "\n",
        "fours = torch.ones((2, 3), dtype=torch.int16) * 4\n",
        "print(fours)\n",
        "\n",
        "fives = ones + fours\n",
        "print(fives)\n",
        "print(fives.shape)"
      ],
      "metadata": {
        "colab": {
          "base_uri": "https://localhost:8080/"
        },
        "id": "IdmDnJxak4d3",
        "outputId": "2cb08f9a-8210-4d22-8d91-e792353ffa5f"
      },
      "execution_count": 21,
      "outputs": [
        {
          "output_type": "stream",
          "name": "stdout",
          "text": [
            "tensor([[1, 1, 1],\n",
            "        [1, 1, 1]], dtype=torch.int16)\n",
            "tensor([[4, 4, 4],\n",
            "        [4, 4, 4]], dtype=torch.int16)\n",
            "tensor([[5, 5, 5],\n",
            "        [5, 5, 5]], dtype=torch.int16)\n",
            "torch.Size([2, 3])\n"
          ]
        }
      ]
    },
    {
      "cell_type": "markdown",
      "source": [
        "pytorch seed changes everytime with new random call??"
      ],
      "metadata": {
        "id": "y3ZeeSfHnSO_"
      }
    },
    {
      "cell_type": "code",
      "source": [
        "torch.seed()"
      ],
      "metadata": {
        "colab": {
          "base_uri": "https://localhost:8080/"
        },
        "id": "pEUYJ9v1mlna",
        "outputId": "8ced4dd4-e316-468d-c1c7-217012dcdb8e"
      },
      "execution_count": 22,
      "outputs": [
        {
          "output_type": "execute_result",
          "data": {
            "text/plain": [
              "17295900731922219800"
            ]
          },
          "metadata": {},
          "execution_count": 22
        }
      ]
    },
    {
      "cell_type": "code",
      "source": [
        "fours = torch.ones((2, 3), dtype=torch.int16) * 4"
      ],
      "metadata": {
        "id": "iggNdHP7nMw_"
      },
      "execution_count": 23,
      "outputs": []
    },
    {
      "cell_type": "code",
      "source": [
        "r3 = r1 + r2"
      ],
      "metadata": {
        "id": "9l7FJ3FZovyP"
      },
      "execution_count": 25,
      "outputs": []
    },
    {
      "cell_type": "code",
      "source": [
        "torch.seed()"
      ],
      "metadata": {
        "colab": {
          "base_uri": "https://localhost:8080/"
        },
        "id": "VUia_V-lnPA7",
        "outputId": "fe0aef91-53f5-4301-8df6-b54ce4b6062b"
      },
      "execution_count": 26,
      "outputs": [
        {
          "output_type": "execute_result",
          "data": {
            "text/plain": [
              "85034306175053947"
            ]
          },
          "metadata": {},
          "execution_count": 26
        }
      ]
    },
    {
      "cell_type": "code",
      "source": [
        "random_between_1_and_1 = torch.rand(2, 2) - 0.5 * 2\n",
        "print(random_between_1_and_1)\n",
        "\n",
        "print(torch.abs(random_between_1_and_1))\n",
        "\n",
        "print(torch.asin(random_between_1_and_1))\n",
        "\n",
        "print(torch.det(random_between_1_and_1))\n",
        "\n",
        "print(torch.svd(random_between_1_and_1))\n",
        "\n",
        "print(torch.std_mean(random_between_1_and_1))\n",
        "\n",
        "print(torch.max(random_between_1_and_1))"
      ],
      "metadata": {
        "colab": {
          "base_uri": "https://localhost:8080/"
        },
        "id": "q7DY2_Nxo0Vs",
        "outputId": "89c554ba-80ed-449d-ad8f-053d9778845b"
      },
      "execution_count": 38,
      "outputs": [
        {
          "output_type": "stream",
          "name": "stdout",
          "text": [
            "tensor([[-0.4142, -0.7675],\n",
            "        [-0.7479, -0.6860]])\n",
            "tensor([[0.4142, 0.7675],\n",
            "        [0.7479, 0.6860]])\n",
            "tensor([[-0.4271, -0.8750],\n",
            "        [-0.8450, -0.7560]])\n",
            "tensor(-0.2899)\n",
            "torch.return_types.svd(\n",
            "U=tensor([[-0.6485, -0.7613],\n",
            "        [-0.7613,  0.6485]]),\n",
            "S=tensor([1.3200, 0.2196]),\n",
            "V=tensor([[ 0.6348, -0.7727],\n",
            "        [ 0.7727,  0.6348]]))\n",
            "(tensor(0.1635), tensor(-0.6539))\n",
            "tensor(-0.4142)\n"
          ]
        }
      ]
    },
    {
      "cell_type": "code",
      "source": [
        "import torch.nn as nn\n",
        "import torch.nn.functional as F"
      ],
      "metadata": {
        "id": "t-mS_jB0qRSC"
      },
      "execution_count": 42,
      "outputs": []
    },
    {
      "cell_type": "code",
      "source": [
        "class MulkiNet(nn.Module):\n",
        "\n",
        "    def __init__(self):\n",
        "        super(MulkiNet, self).__init__()\n",
        "        # 1 input image channel (black & white), 6 output channels, 8*8 square convolution\n",
        "        # kernel\n",
        "        self.conv1 = nn.Conv2d(1, 6, 8)\n",
        "        self.conv2 = nn.Conv2d(6, 16, 4)\n",
        "        # an affine operation: y = Wx + b\n",
        "        self.fc1 = nn.Linear(16 * 4 * 4, 256)  # 4*4 from image dimension\n",
        "        self.fc2 = nn.Linear(256, 64)\n",
        "        self.fc3 = nn.Linear(64, 10)\n",
        "\n",
        "    def forward(self, x):\n",
        "        # Max pooling over a (2, 2) window\n",
        "        x = F.max_pool2d(F.relu(self.conv1(x)), (2, 2))\n",
        "        # If the size is a square you can only specify a single number\n",
        "        x = F.max_pool2d(F.relu(self.conv2(x)), 2)\n",
        "        x = x.view(-1, self.num_flat_features(x))\n",
        "        x = F.relu(self.fc1(x))\n",
        "        x = F.relu(self.fc2(x))\n",
        "        x = self.fc3(x)\n",
        "        return x\n",
        "\n",
        "    def num_flat_features(self, x):\n",
        "        size = x.size()[1:]  # all dimensions except the batch dimension\n",
        "        num_features = 1\n",
        "        for s in size:\n",
        "            num_features *= s\n",
        "        return num_features\n",
        "\n",
        "class LeNet(nn.Module):\n",
        "\n",
        "    def __init__(self):\n",
        "        super(LeNet, self).__init__()\n",
        "        # 1 input image channel (black & white), 6 output channels, 5x5 square convolution\n",
        "        # kernel\n",
        "        self.conv1 = nn.Conv2d(1, 6, 5)\n",
        "        self.conv2 = nn.Conv2d(6, 16, 5)\n",
        "        # an affine operation: y = Wx + b\n",
        "        self.fc1 = nn.Linear(16 * 5 * 5, 120)  # 5*5 from image dimension\n",
        "        self.fc2 = nn.Linear(120, 84)\n",
        "        self.fc3 = nn.Linear(84, 10)\n",
        "\n",
        "    def forward(self, x):\n",
        "        # Max pooling over a (2, 2) window\n",
        "        x = F.max_pool2d(F.relu(self.conv1(x)), (2, 2))\n",
        "        # If the size is a square you can only specify a single number\n",
        "        x = F.max_pool2d(F.relu(self.conv2(x)), 2)\n",
        "        x = x.view(-1, self.num_flat_features(x))\n",
        "        x = F.relu(self.fc1(x))\n",
        "        x = F.relu(self.fc2(x))\n",
        "        x = self.fc3(x)\n",
        "        return x\n",
        "\n",
        "    def num_flat_features(self, x):\n",
        "        size = x.size()[1:]  # all dimensions except the batch dimension\n",
        "        num_features = 1\n",
        "        for s in size:\n",
        "            num_features *= s\n",
        "        return num_features"
      ],
      "metadata": {
        "id": "5_9fL49ktRNZ"
      },
      "execution_count": 90,
      "outputs": []
    },
    {
      "cell_type": "code",
      "source": [
        "net = MulkiNet()\n",
        "\n",
        "print(net)\n",
        "\n",
        "lenet = LeNet()\n",
        "\n",
        "print(lenet)"
      ],
      "metadata": {
        "colab": {
          "base_uri": "https://localhost:8080/"
        },
        "id": "-Mprh_cWtbZH",
        "outputId": "d15a4995-4a8b-49fb-e237-4adb60285298"
      },
      "execution_count": 91,
      "outputs": [
        {
          "output_type": "stream",
          "name": "stdout",
          "text": [
            "MulkiNet(\n",
            "  (conv1): Conv2d(1, 6, kernel_size=(8, 8), stride=(1, 1))\n",
            "  (conv2): Conv2d(6, 16, kernel_size=(4, 4), stride=(1, 1))\n",
            "  (fc1): Linear(in_features=256, out_features=256, bias=True)\n",
            "  (fc2): Linear(in_features=256, out_features=64, bias=True)\n",
            "  (fc3): Linear(in_features=64, out_features=10, bias=True)\n",
            ")\n",
            "LeNet(\n",
            "  (conv1): Conv2d(1, 6, kernel_size=(5, 5), stride=(1, 1))\n",
            "  (conv2): Conv2d(6, 16, kernel_size=(5, 5), stride=(1, 1))\n",
            "  (fc1): Linear(in_features=400, out_features=120, bias=True)\n",
            "  (fc2): Linear(in_features=120, out_features=84, bias=True)\n",
            "  (fc3): Linear(in_features=84, out_features=10, bias=True)\n",
            ")\n"
          ]
        }
      ]
    },
    {
      "cell_type": "code",
      "source": [
        "input = torch.rand(1, 1, 32, 32)   # stand-in for a 32x32 black & white image\n",
        "print('Image batch shape:')\n",
        "print(input.shape)\n",
        "\n",
        "output = net(input)                # we don't call forward() directly\n",
        "print('\\nRaw output:')\n",
        "print(output)\n",
        "print(output.shape)"
      ],
      "metadata": {
        "colab": {
          "base_uri": "https://localhost:8080/"
        },
        "id": "QMrtPN_Stn7p",
        "outputId": "4b1a0893-90b1-4ebd-be73-2e5e41954919"
      },
      "execution_count": 93,
      "outputs": [
        {
          "output_type": "stream",
          "name": "stdout",
          "text": [
            "Image batch shape:\n",
            "torch.Size([1, 1, 32, 32])\n",
            "\n",
            "Raw output:\n",
            "tensor([[ 0.0563,  0.0083, -0.0747, -0.0653,  0.0381,  0.0324, -0.1358,  0.0253,\n",
            "         -0.0910, -0.0867]], grad_fn=<AddmmBackward0>)\n",
            "torch.Size([1, 10])\n"
          ]
        }
      ]
    },
    {
      "cell_type": "code",
      "source": [
        "%matplotlib inline"
      ],
      "metadata": {
        "id": "Y76BE7wFueAZ"
      },
      "execution_count": 94,
      "outputs": []
    },
    {
      "cell_type": "code",
      "source": [
        "import torchvision\n",
        "import matplotlib.pyplot as plt\n",
        "import numpy as np\n",
        "import torchvision.transforms as transforms\n",
        "\n",
        "# show an image\n",
        "def show(img):\n",
        "    npimg = img.numpy()\n",
        "    plt.imshow(np.transpose(npimg, (1, 2, 0)), interpolation='nearest')"
      ],
      "metadata": {
        "id": "lMeNOg4UyJc_"
      },
      "execution_count": 101,
      "outputs": []
    },
    {
      "cell_type": "code",
      "source": [
        "show(torchvision.utils.make_grid(input))"
      ],
      "metadata": {
        "colab": {
          "base_uri": "https://localhost:8080/",
          "height": 450
        },
        "id": "0SeAY3i1yN1I",
        "outputId": "5db295df-48b8-4a22-8705-e3d28fc0b8be"
      },
      "execution_count": 102,
      "outputs": [
        {
          "output_type": "display_data",
          "data": {
            "text/plain": [
              "<Figure size 640x480 with 1 Axes>"
            ],
            "image/png": "[encoded data removed]"
          },
          "metadata": {}
        }
      ]
    },
    {
      "cell_type": "code",
      "source": [
        "transform = transforms.Compose(\n",
        "    [transforms.ToTensor(),\n",
        "     transforms.Normalize((0.4914, 0.4822, 0.4465), (0.2470, 0.2435, 0.2616))])"
      ],
      "metadata": {
        "id": "NWuUmSAryQge"
      },
      "execution_count": 103,
      "outputs": []
    },
    {
      "cell_type": "code",
      "source": [
        "trainset = torchvision.datasets.CIFAR10(root='./data', train=True,download=True, transform=transform)"
      ],
      "metadata": {
        "colab": {
          "base_uri": "https://localhost:8080/"
        },
        "id": "S99UcrGSyglW",
        "outputId": "6d0a5e81-c988-469a-e15e-c0efaeddf0f1"
      },
      "execution_count": 104,
      "outputs": [
        {
          "output_type": "stream",
          "name": "stdout",
          "text": [
            "Downloading https://www.cs.toronto.edu/~kriz/cifar-10-python.tar.gz to ./data/cifar-10-python.tar.gz\n"
          ]
        },
        {
          "output_type": "stream",
          "name": "stderr",
          "text": [
            "100%|██████████| 170498071/170498071 [00:02<00:00, 59123403.46it/s]\n"
          ]
        },
        {
          "output_type": "stream",
          "name": "stdout",
          "text": [
            "Extracting ./data/cifar-10-python.tar.gz to ./data\n"
          ]
        }
      ]
    },
    {
      "cell_type": "code",
      "source": [
        "trainloader = torch.utils.data.DataLoader(trainset, batch_size=4,\n",
        "                                          shuffle=True, num_workers=2)\n"
      ],
      "metadata": {
        "id": "FCOAAEriyxEv"
      },
      "execution_count": 105,
      "outputs": []
    },
    {
      "cell_type": "code",
      "source": [
        "import matplotlib.pyplot as plt\n",
        "import numpy as np\n",
        "\n",
        "classes = ('plane', 'car', 'bird', 'cat',\n",
        "           'deer', 'dog', 'frog', 'horse', 'ship', 'truck')\n",
        "\n",
        "def imshow(img):\n",
        "    img = img / 2 + 0.5     # unnormalize\n",
        "    npimg = img.numpy()\n",
        "    plt.imshow(np.transpose(npimg, (1, 2, 0)))\n",
        "\n",
        "\n",
        "# get some random training images\n",
        "dataiter = iter(trainloader)\n",
        "images, labels = next(dataiter)\n",
        "\n",
        "# show images\n",
        "imshow(torchvision.utils.make_grid(images))\n",
        "# print labels\n",
        "print(' '.join('%5s' % classes[labels[j]] for j in range(4)))"
      ],
      "metadata": {
        "colab": {
          "base_uri": "https://localhost:8080/",
          "height": 248
        },
        "id": "oB__c3su1HK2",
        "outputId": "4ad1da13-1c21-46f9-90e4-1f80af637239"
      },
      "execution_count": 107,
      "outputs": [
        {
          "output_type": "stream",
          "name": "stderr",
          "text": [
            "WARNING:matplotlib.image:Clipping input data to the valid range for imshow with RGB data ([0..1] for floats or [0..255] for integers).\n"
          ]
        },
        {
          "output_type": "stream",
          "name": "stdout",
          "text": [
            " ship horse horse  bird\n"
          ]
        },
        {
          "output_type": "display_data",
          "data": {
            "text/plain": [
              "<Figure size 640x480 with 1 Axes>"
            ],
            "image/png": "[encoded data removed]"
          },
          "metadata": {}
        }
      ]
    },
    {
      "cell_type": "code",
      "source": [],
      "metadata": {
        "id": "5grZe5Ax1ZjO"
      },
      "execution_count": 106,
      "outputs": []
    }
  ]
}