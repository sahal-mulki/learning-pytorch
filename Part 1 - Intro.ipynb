{
  "nbformat": 4,
  "nbformat_minor": 0,
  "metadata": {
    "colab": {
      "provenance": [],
      "authorship_tag": "ABX9TyO6kmukjeG33OkrlW1GHayg",
      "include_colab_link": true
    },
    "kernelspec": {
      "name": "python3",
      "display_name": "Python 3"
    },
    "language_info": {
      "name": "python"
    }
  },
  "cells": [
    {
      "cell_type": "markdown",
      "metadata": {
        "id": "view-in-github",
        "colab_type": "text"
      },
      "source": [
        "<a href=\"https://colab.research.google.com/github/sahal-mulki/learning-pytorch/blob/main/Part%201%20-%20Intro.ipynb\" target=\"_parent\"><img src=\"https://colab.research.google.com/assets/colab-badge.svg\" alt=\"Open In Colab\"/></a>"
      ]
    },
    {
      "cell_type": "markdown",
      "source": [
        "# My first notebook made while trying to learn PyTorch!"
      ],
      "metadata": {
        "id": "dHpL_oKukEVt"
      }
    },
    {
      "cell_type": "code",
      "execution_count": 18,
      "metadata": {
        "colab": {
          "base_uri": "https://localhost:8080/"
        },
        "id": "MO_steARjTVR",
        "outputId": "8a953bdf-589e-4427-aee7-26d702570b98"
      },
      "outputs": [
        {
          "output_type": "stream",
          "name": "stdout",
          "text": [
            "\u001b[31mERROR: Operation cancelled by user\u001b[0m\u001b[31m\n",
            "\u001b[0m"
          ]
        }
      ],
      "source": [
        "# CREATED IN PART USING THE GEMINI AI FUNCTION IN COLAB\n",
        "\n",
        "!pip install --upgrade torch torchvision"
      ]
    },
    {
      "cell_type": "code",
      "source": [
        "import torch\n",
        "\n",
        "z = torch.zeros(2, 3)\n",
        "print(z)\n",
        "print(\"Z has the type:\")\n",
        "print(z.dtype)\n",
        "\n",
        "ones = torch.ones((2, 3), dtype=torch.int16)\n",
        "\n",
        "print(\"Ones has the type:\")\n",
        "print(ones.type)\n",
        "print(ones)\n",
        "\n",
        "torch.manual_seed(1234)\n",
        "r1 = torch.rand((2, 2), dtype=torch.float16)\n",
        "print('A random tensor:')\n",
        "print(r1)\n",
        "\n",
        "r2 = torch.rand((2, 2), dtype=torch.float16)\n",
        "print('A different random tensor:')\n",
        "print(r2)\n",
        "\n",
        "torch.manual_seed(1234)\n",
        "r3 = torch.rand((2, 2), dtype=torch.float16)\n",
        "print('Should match r1:')\n",
        "print(r3)"
      ],
      "metadata": {
        "colab": {
          "base_uri": "https://localhost:8080/"
        },
        "id": "oLjoSmk2j9Ka",
        "outputId": "c889680d-92e7-4ba1-ec95-b05e631b40da"
      },
      "execution_count": 19,
      "outputs": [
        {
          "output_type": "stream",
          "name": "stdout",
          "text": [
            "tensor([[0., 0., 0.],\n",
            "        [0., 0., 0.]])\n",
            "Z has the type:\n",
            "torch.float32\n",
            "Ones has the type:\n",
            "<built-in method type of Tensor object at 0x791f9482d800>\n",
            "tensor([[1, 1, 1],\n",
            "        [1, 1, 1]], dtype=torch.int16)\n",
            "A random tensor:\n",
            "tensor([[0.3979, 0.3530],\n",
            "        [0.6436, 0.5259]], dtype=torch.float16)\n",
            "A different random tensor:\n",
            "tensor([[0.5996, 0.6816],\n",
            "        [0.3242, 0.9966]], dtype=torch.float16)\n",
            "Should match r1:\n",
            "tensor([[0.3979, 0.3530],\n",
            "        [0.6436, 0.5259]], dtype=torch.float16)\n"
          ]
        }
      ]
    },
    {
      "cell_type": "code",
      "source": [
        "ones = torch.ones((2, 3), dtype=torch.int16)\n",
        "print(ones)\n",
        "\n",
        "fours = torch.ones((2, 3), dtype=torch.int16) * 4\n",
        "print(fours)\n",
        "\n",
        "fives = ones + fours\n",
        "print(fives)\n",
        "print(fives.shape)"
      ],
      "metadata": {
        "colab": {
          "base_uri": "https://localhost:8080/"
        },
        "id": "IdmDnJxak4d3",
        "outputId": "2cb08f9a-8210-4d22-8d91-e792353ffa5f"
      },
      "execution_count": 21,
      "outputs": [
        {
          "output_type": "stream",
          "name": "stdout",
          "text": [
            "tensor([[1, 1, 1],\n",
            "        [1, 1, 1]], dtype=torch.int16)\n",
            "tensor([[4, 4, 4],\n",
            "        [4, 4, 4]], dtype=torch.int16)\n",
            "tensor([[5, 5, 5],\n",
            "        [5, 5, 5]], dtype=torch.int16)\n",
            "torch.Size([2, 3])\n"
          ]
        }
      ]
    },
    {
      "cell_type": "code",
      "source": [],
      "metadata": {
        "id": "pEUYJ9v1mlna"
      },
      "execution_count": null,
      "outputs": []
    }
  ]
}